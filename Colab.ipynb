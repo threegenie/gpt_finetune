{
 "cells": [
  {
   "cell_type": "code",
   "execution_count": null,
   "metadata": {
    "colab": {},
    "colab_type": "code",
    "id": "95R4RqiOuA7A"
   },
   "outputs": [],
   "source": [
    "from google.colab import drive\n",
    "drive.mount('/content/drive')"
   ]
  },
  {
   "cell_type": "code",
   "execution_count": null,
   "metadata": {
    "colab": {},
    "colab_type": "code",
    "id": "baLi1Gj_aOZ6"
   },
   "outputs": [],
   "source": [
    "from pydrive.auth import GoogleAuth\n",
    "from pydrive.drive import GoogleDrive\n",
    "from google.colab import auth\n",
    "from oauth2client.client import GoogleCredentials\n",
    "import logging\n",
    "\n",
    "auth.authenticate_user()\n",
    "gauth = GoogleAuth()\n",
    "gauth.credentials = GoogleCredentials.get_application_default()\n",
    "my_drive = GoogleDrive(gauth)"
   ]
  },
  {
   "cell_type": "markdown",
   "metadata": {
    "colab_type": "text",
    "id": "IPruP1vbulVa"
   },
   "source": [
    "# 필요한 필수 새팅 작업"
   ]
  },
  {
   "cell_type": "code",
   "execution_count": null,
   "metadata": {
    "colab": {
     "base_uri": "https://localhost:8080/",
     "height": 35
    },
    "colab_type": "code",
    "executionInfo": {
     "elapsed": 8327,
     "status": "ok",
     "timestamp": 1595181618900,
     "user": {
      "displayName": "염기웅",
      "photoUrl": "https://lh3.googleusercontent.com/a-/AOh14GjX7VJGycIiSE_ScyzrUP21BjN23qYkmpaLsooQow=s64",
      "userId": "17474065399754057575"
     },
     "user_tz": -540
    },
    "id": "rHALfG-nWlRV",
    "outputId": "c2a817b9-c3fb-4446-92cf-0f98872b8e7f"
   },
   "outputs": [
    {
     "name": "stdout",
     "output_type": "stream",
     "text": [
      "adc.json  drive  sample_data\n"
     ]
    }
   ],
   "source": [
    "!ls"
   ]
  },
  {
   "cell_type": "code",
   "execution_count": null,
   "metadata": {
    "colab": {
     "base_uri": "https://localhost:8080/",
     "height": 1000
    },
    "colab_type": "code",
    "executionInfo": {
     "elapsed": 25458,
     "status": "ok",
     "timestamp": 1595181637317,
     "user": {
      "displayName": "염기웅",
      "photoUrl": "https://lh3.googleusercontent.com/a-/AOh14GjX7VJGycIiSE_ScyzrUP21BjN23qYkmpaLsooQow=s64",
      "userId": "17474065399754057575"
     },
     "user_tz": -540
    },
    "id": "-m6L6j_nYTTl",
    "outputId": "61304f88-df4d-41dd-f648-2cf25d07da6b"
   },
   "outputs": [
    {
     "name": "stdout",
     "output_type": "stream",
     "text": [
      "Collecting mxnet==1.6.0\n",
      "\u001b[?25l  Downloading https://files.pythonhosted.org/packages/81/f5/d79b5b40735086ff1100c680703e0f3efc830fa455e268e9e96f3c857e93/mxnet-1.6.0-py2.py3-none-any.whl (68.7MB)\n",
      "\u001b[K     |████████████████████████████████| 68.7MB 45kB/s \n",
      "\u001b[?25hRequirement already satisfied: tqdm in /usr/local/lib/python3.6/dist-packages (from -r drive/My Drive/KoGPT2-FineTuning_pre/requirements.txt (line 2)) (4.41.1)\n",
      "Collecting gluonnlp==0.8.3\n",
      "\u001b[?25l  Downloading https://files.pythonhosted.org/packages/83/29/c7dffbfc39f8dd8bb9314df7aaf92a67f6c7826ed35d546c8fa63d6e5925/gluonnlp-0.8.3.tar.gz (236kB)\n",
      "\u001b[K     |████████████████████████████████| 245kB 71.0MB/s \n",
      "\u001b[?25hCollecting sentencepiece==0.1.6\n",
      "\u001b[?25l  Downloading https://files.pythonhosted.org/packages/54/7f/a5fae1ff61d427801e8845e6c1a3ee1c13db6c187e155ae58a0224f21a38/sentencepiece-0.1.6-cp36-cp36m-manylinux1_x86_64.whl (1.4MB)\n",
      "\u001b[K     |████████████████████████████████| 1.4MB 40.2MB/s \n",
      "\u001b[?25hRequirement already satisfied: torch==1.5.1 in /usr/local/lib/python3.6/dist-packages (from -r drive/My Drive/KoGPT2-FineTuning_pre/requirements.txt (line 5)) (1.5.1+cu101)\n",
      "Collecting transformers==2.1.1\n",
      "\u001b[?25l  Downloading https://files.pythonhosted.org/packages/fd/f9/51824e40f0a23a49eab4fcaa45c1c797cbf9761adedd0b558dab7c958b34/transformers-2.1.1-py3-none-any.whl (311kB)\n",
      "\u001b[K     |████████████████████████████████| 317kB 56.2MB/s \n",
      "\u001b[?25hCollecting tensorboardX\n",
      "\u001b[?25l  Downloading https://files.pythonhosted.org/packages/af/0c/4f41bcd45db376e6fe5c619c01100e9b7531c55791b7244815bac6eac32c/tensorboardX-2.1-py2.py3-none-any.whl (308kB)\n",
      "\u001b[K     |████████████████████████████████| 317kB 61.3MB/s \n",
      "\u001b[?25hCollecting dropbox\n",
      "\u001b[?25l  Downloading https://files.pythonhosted.org/packages/f2/68/037016cf1b227cc2ae0a7b962f69a14e60e50fa1e94f1ba9d297893de924/dropbox-10.3.0-py3-none-any.whl (668kB)\n",
      "\u001b[K     |████████████████████████████████| 675kB 58.6MB/s \n",
      "\u001b[?25hRequirement already satisfied: numpy<2.0.0,>1.16.0 in /usr/local/lib/python3.6/dist-packages (from mxnet==1.6.0->-r drive/My Drive/KoGPT2-FineTuning_pre/requirements.txt (line 1)) (1.18.5)\n",
      "Collecting graphviz<0.9.0,>=0.8.1\n",
      "  Downloading https://files.pythonhosted.org/packages/53/39/4ab213673844e0c004bed8a0781a0721a3f6bb23eb8854ee75c236428892/graphviz-0.8.4-py2.py3-none-any.whl\n",
      "Requirement already satisfied: requests<3,>=2.20.0 in /usr/local/lib/python3.6/dist-packages (from mxnet==1.6.0->-r drive/My Drive/KoGPT2-FineTuning_pre/requirements.txt (line 1)) (2.23.0)\n",
      "Requirement already satisfied: future in /usr/local/lib/python3.6/dist-packages (from torch==1.5.1->-r drive/My Drive/KoGPT2-FineTuning_pre/requirements.txt (line 5)) (0.16.0)\n",
      "Collecting sacremoses\n",
      "\u001b[?25l  Downloading https://files.pythonhosted.org/packages/7d/34/09d19aff26edcc8eb2a01bed8e98f13a1537005d31e95233fd48216eed10/sacremoses-0.0.43.tar.gz (883kB)\n",
      "\u001b[K     |████████████████████████████████| 890kB 51.4MB/s \n",
      "\u001b[?25hRequirement already satisfied: boto3 in /usr/local/lib/python3.6/dist-packages (from transformers==2.1.1->-r drive/My Drive/KoGPT2-FineTuning_pre/requirements.txt (line 6)) (1.14.20)\n",
      "Requirement already satisfied: regex in /usr/local/lib/python3.6/dist-packages (from transformers==2.1.1->-r drive/My Drive/KoGPT2-FineTuning_pre/requirements.txt (line 6)) (2019.12.20)\n",
      "Requirement already satisfied: six in /usr/local/lib/python3.6/dist-packages (from tensorboardX->-r drive/My Drive/KoGPT2-FineTuning_pre/requirements.txt (line 7)) (1.12.0)\n",
      "Requirement already satisfied: protobuf>=3.8.0 in /usr/local/lib/python3.6/dist-packages (from tensorboardX->-r drive/My Drive/KoGPT2-FineTuning_pre/requirements.txt (line 7)) (3.12.2)\n",
      "Requirement already satisfied: urllib3!=1.25.0,!=1.25.1,<1.26,>=1.21.1 in /usr/local/lib/python3.6/dist-packages (from requests<3,>=2.20.0->mxnet==1.6.0->-r drive/My Drive/KoGPT2-FineTuning_pre/requirements.txt (line 1)) (1.24.3)\n",
      "Requirement already satisfied: chardet<4,>=3.0.2 in /usr/local/lib/python3.6/dist-packages (from requests<3,>=2.20.0->mxnet==1.6.0->-r drive/My Drive/KoGPT2-FineTuning_pre/requirements.txt (line 1)) (3.0.4)\n",
      "Requirement already satisfied: certifi>=2017.4.17 in /usr/local/lib/python3.6/dist-packages (from requests<3,>=2.20.0->mxnet==1.6.0->-r drive/My Drive/KoGPT2-FineTuning_pre/requirements.txt (line 1)) (2020.6.20)\n",
      "Requirement already satisfied: idna<3,>=2.5 in /usr/local/lib/python3.6/dist-packages (from requests<3,>=2.20.0->mxnet==1.6.0->-r drive/My Drive/KoGPT2-FineTuning_pre/requirements.txt (line 1)) (2.10)\n",
      "Requirement already satisfied: click in /usr/local/lib/python3.6/dist-packages (from sacremoses->transformers==2.1.1->-r drive/My Drive/KoGPT2-FineTuning_pre/requirements.txt (line 6)) (7.1.2)\n",
      "Requirement already satisfied: joblib in /usr/local/lib/python3.6/dist-packages (from sacremoses->transformers==2.1.1->-r drive/My Drive/KoGPT2-FineTuning_pre/requirements.txt (line 6)) (0.16.0)\n",
      "Requirement already satisfied: s3transfer<0.4.0,>=0.3.0 in /usr/local/lib/python3.6/dist-packages (from boto3->transformers==2.1.1->-r drive/My Drive/KoGPT2-FineTuning_pre/requirements.txt (line 6)) (0.3.3)\n",
      "Requirement already satisfied: jmespath<1.0.0,>=0.7.1 in /usr/local/lib/python3.6/dist-packages (from boto3->transformers==2.1.1->-r drive/My Drive/KoGPT2-FineTuning_pre/requirements.txt (line 6)) (0.10.0)\n",
      "Requirement already satisfied: botocore<1.18.0,>=1.17.20 in /usr/local/lib/python3.6/dist-packages (from boto3->transformers==2.1.1->-r drive/My Drive/KoGPT2-FineTuning_pre/requirements.txt (line 6)) (1.17.20)\n",
      "Requirement already satisfied: setuptools in /usr/local/lib/python3.6/dist-packages (from protobuf>=3.8.0->tensorboardX->-r drive/My Drive/KoGPT2-FineTuning_pre/requirements.txt (line 7)) (49.1.0)\n",
      "Requirement already satisfied: docutils<0.16,>=0.10 in /usr/local/lib/python3.6/dist-packages (from botocore<1.18.0,>=1.17.20->boto3->transformers==2.1.1->-r drive/My Drive/KoGPT2-FineTuning_pre/requirements.txt (line 6)) (0.15.2)\n",
      "Requirement already satisfied: python-dateutil<3.0.0,>=2.1 in /usr/local/lib/python3.6/dist-packages (from botocore<1.18.0,>=1.17.20->boto3->transformers==2.1.1->-r drive/My Drive/KoGPT2-FineTuning_pre/requirements.txt (line 6)) (2.8.1)\n",
      "Building wheels for collected packages: gluonnlp, sacremoses\n",
      "  Building wheel for gluonnlp (setup.py) ... \u001b[?25l\u001b[?25hdone\n",
      "  Created wheel for gluonnlp: filename=gluonnlp-0.8.3-cp36-none-any.whl size=293540 sha256=b87544d39664cff42ec6421c663f8b1070536be1ca8bf80378dfc03ec58dc65c\n",
      "  Stored in directory: /root/.cache/pip/wheels/50/6e/32/521aa84da7f9ee725d3c9be0b5e0d771df659bf25da5929f6c\n",
      "  Building wheel for sacremoses (setup.py) ... \u001b[?25l\u001b[?25hdone\n",
      "  Created wheel for sacremoses: filename=sacremoses-0.0.43-cp36-none-any.whl size=893260 sha256=a8e42e0cc0b9eae5dbb1b198d88ce991c2d7fdf0e413ef24f60811aa0fbdbd39\n",
      "  Stored in directory: /root/.cache/pip/wheels/29/3c/fd/7ce5c3f0666dab31a50123635e6fb5e19ceb42ce38d4e58f45\n",
      "Successfully built gluonnlp sacremoses\n",
      "Installing collected packages: graphviz, mxnet, gluonnlp, sentencepiece, sacremoses, transformers, tensorboardX, dropbox\n",
      "  Found existing installation: graphviz 0.10.1\n",
      "    Uninstalling graphviz-0.10.1:\n",
      "      Successfully uninstalled graphviz-0.10.1\n",
      "Successfully installed dropbox-10.3.0 gluonnlp-0.8.3 graphviz-0.8.4 mxnet-1.6.0 sacremoses-0.0.43 sentencepiece-0.1.6 tensorboardX-2.1 transformers-2.1.1\n"
     ]
    }
   ],
   "source": [
    "!pip install -r drive/'My Drive'/'KoGPT2-FineTuning_pre'/requirements.txt"
   ]
  },
  {
   "cell_type": "code",
   "execution_count": null,
   "metadata": {
    "colab": {},
    "colab_type": "code",
    "id": "d8M3DCwcYlMv"
   },
   "outputs": [],
   "source": [
    "import os\n",
    "import sys\n",
    "sys.path.append('drive/My Drive/KoGPT2-FineTuning_pre')\n",
    "logs_base_dir = \"runs\""
   ]
  },
  {
   "cell_type": "code",
   "execution_count": null,
   "metadata": {
    "colab": {
     "base_uri": "https://localhost:8080/",
     "height": 73
    },
    "colab_type": "code",
    "executionInfo": {
     "elapsed": 50424,
     "status": "ok",
     "timestamp": 1595181665530,
     "user": {
      "displayName": "염기웅",
      "photoUrl": "https://lh3.googleusercontent.com/a-/AOh14GjX7VJGycIiSE_ScyzrUP21BjN23qYkmpaLsooQow=s64",
      "userId": "17474065399754057575"
     },
     "user_tz": -540
    },
    "id": "p-qz4OLnYlSY",
    "outputId": "39e5d0bf-7ae8-4099-f79d-af95181cdb51",
    "scrolled": true
   },
   "outputs": [
    {
     "name": "stderr",
     "output_type": "stream",
     "text": [
      "/usr/local/lib/python3.6/dist-packages/mxnet/optimizer/optimizer.py:167: UserWarning: WARNING: New optimizer gluonnlp.optimizer.lamb.LAMB is overriding existing optimizer mxnet.optimizer.optimizer.LAMB\n",
      "  Optimizer.opt_registry[name].__name__))\n"
     ]
    }
   ],
   "source": [
    "from jupyter_main_auto import main"
   ]
  },
  {
   "cell_type": "code",
   "execution_count": null,
   "metadata": {
    "colab": {},
    "colab_type": "code",
    "id": "J_Jjj58pd1Rq"
   },
   "outputs": [],
   "source": [
    "ctx= 'cuda'\n",
    "cachedir='~/kogpt2/'\n",
    "load_path = './gdrive/My Drive/KoGPT2-FineTuning_pre/checkpoint/KoGPT2_checkpoint_640000.tar' # 이어서 학습시킬 모델 경로\n",
    "save_path = './gdrive/My Drive/KoGPT2-FineTuning_pre/checkpoint/' # 학습한 모델을 저장시킬 경로\n",
    "data_file_path = './gdrive/My Drive/KoGPT2-FineTuning_pre/dataset/dataset.csv' # 학습할 데이터셋 경로"
   ]
  },
  {
   "cell_type": "markdown",
   "metadata": {
    "colab_type": "text",
    "id": "umcGNCCYktXo"
   },
   "source": [
    "# 모델 학습 시작"
   ]
  },
  {
   "cell_type": "code",
   "execution_count": null,
   "metadata": {
    "colab": {
     "base_uri": "https://localhost:8080/",
     "height": 35
    },
    "colab_type": "code",
    "executionInfo": {
     "elapsed": 46162,
     "status": "ok",
     "timestamp": 1595181666409,
     "user": {
      "displayName": "염기웅",
      "photoUrl": "https://lh3.googleusercontent.com/a-/AOh14GjX7VJGycIiSE_ScyzrUP21BjN23qYkmpaLsooQow=s64",
      "userId": "17474065399754057575"
     },
     "user_tz": -540
    },
    "id": "is4QYvO_Q2Jl",
    "outputId": "ce62803a-d713-47ba-b9cc-2482cd7de492"
   },
   "outputs": [
    {
     "name": "stdout",
     "output_type": "stream",
     "text": [
      "Mounted at /content/gdrive\n"
     ]
    }
   ],
   "source": [
    "# 저장 잘 되는지 테스트\n",
    "drive.mount('/content/gdrive')\n",
    "\n",
    "f = open(save_path+ 'KoGPT2_checkpoint_' + str(142) + '.tar', 'w')\n",
    "f.write(\"가자\")\n",
    "f.close()"
   ]
  },
  {
   "cell_type": "code",
   "execution_count": null,
   "metadata": {},
   "outputs": [],
   "source": [
    "main(load_path = load_path, data_file_path = data_file_path, save_path = './gdrive/My Drive/KoGPT2-FineTuning_pre/checkpoint/', summary_url = './gdrive/My Drive/KoGPT2-FineTuning_pre/runs/2020-07-20/', text_size = 500, new = 1, batch_size = 1)"
   ]
  }
 ],
 "metadata": {
  "accelerator": "GPU",
  "colab": {
   "collapsed_sections": [],
   "machine_shape": "hm",
   "name": "main_CCM_종교.ipynb",
   "provenance": []
  },
  "kernelspec": {
   "display_name": "Python 3",
   "language": "python",
   "name": "python3"
  },
  "language_info": {
   "codemirror_mode": {
    "name": "ipython",
    "version": 3
   },
   "file_extension": ".py",
   "mimetype": "text/x-python",
   "name": "python",
   "nbconvert_exporter": "python",
   "pygments_lexer": "ipython3",
   "version": "3.7.4"
  }
 },
 "nbformat": 4,
 "nbformat_minor": 1
}
